{
 "cells": [
  {
   "cell_type": "code",
   "execution_count": 2,
   "id": "c7c2136c-74b5-4cd1-b181-56e293158872",
   "metadata": {},
   "outputs": [
    {
     "name": "stdout",
     "output_type": "stream",
     "text": [
      "Hello world\n"
     ]
    }
   ],
   "source": [
    "print(\"Hello world\")\n",
    "x = 100"
   ]
  },
  {
   "cell_type": "code",
   "execution_count": 6,
   "id": "8c80cf99-baaf-4e72-bcfd-702744fa653c",
   "metadata": {},
   "outputs": [
    {
     "name": "stdout",
     "output_type": "stream",
     "text": [
      "More\n"
     ]
    }
   ],
   "source": [
    "if(x < 100):\n",
    "    print(\"Less\")\n",
    "else:\n",
    "    print(\"More\")"
   ]
  },
  {
   "cell_type": "code",
   "execution_count": null,
   "id": "7403f3bb-1fbb-4a65-9584-ed9ffe2456c2",
   "metadata": {
    "editable": true,
    "slideshow": {
     "slide_type": ""
    },
    "tags": []
   },
   "outputs": [],
   "source": []
  },
  {
   "cell_type": "code",
   "execution_count": null,
   "id": "874960e5-0d2d-48df-9e2e-35ab339b86c4",
   "metadata": {},
   "outputs": [],
   "source": []
  }
 ],
 "metadata": {
  "kernelspec": {
   "display_name": "Python 3 (ipykernel)",
   "language": "python",
   "name": "python3"
  },
  "language_info": {
   "codemirror_mode": {
    "name": "ipython",
    "version": 3
   },
   "file_extension": ".py",
   "mimetype": "text/x-python",
   "name": "python",
   "nbconvert_exporter": "python",
   "pygments_lexer": "ipython3",
   "version": "3.13.5"
  }
 },
 "nbformat": 4,
 "nbformat_minor": 5
}
