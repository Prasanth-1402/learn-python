{
 "cells": [
  {
   "cell_type": "code",
   "execution_count": 2,
   "id": "c7c2136c-74b5-4cd1-b181-56e293158872",
   "metadata": {},
   "outputs": [
    {
     "name": "stdout",
     "output_type": "stream",
     "text": [
      "Hello world\n"
     ]
    }
   ],
   "source": [
    "print(\"Hello world\")\n",
    "x = 100"
   ]
  },
  {
   "cell_type": "code",
   "execution_count": 6,
   "id": "8c80cf99-baaf-4e72-bcfd-702744fa653c",
   "metadata": {},
   "outputs": [
    {
     "name": "stdout",
     "output_type": "stream",
     "text": [
      "More\n"
     ]
    }
   ],
   "source": [
    "if(x < 100):\n",
    "    print(\"Less\")\n",
    "else:\n",
    "    print(\"More\")"
   ]
  },
  {
   "cell_type": "code",
   "execution_count": 4,
   "id": "7403f3bb-1fbb-4a65-9584-ed9ffe2456c2",
   "metadata": {
    "editable": true,
    "slideshow": {
     "slide_type": ""
    },
    "tags": []
   },
   "outputs": [
    {
     "data": {
      "text/plain": [
       "'blah'"
      ]
     },
     "execution_count": 4,
     "metadata": {},
     "output_type": "execute_result"
    }
   ],
   "source": [
    "class MyClass:\n",
    "    variable = \"blah\"\n",
    "\n",
    "    def function(self):\n",
    "        print(\"This is a message inside the class.\")\n",
    "\n",
    "myobjectx = MyClass()\n",
    "MyClass().variable"
   ]
  },
  {
   "cell_type": "code",
   "execution_count": 12,
   "id": "874960e5-0d2d-48df-9e2e-35ab339b86c4",
   "metadata": {},
   "outputs": [
    {
     "name": "stdout",
     "output_type": "stream",
     "text": [
      "Fer is a red convertible worth $60000.00.\n",
      "Jump is a blue van worth $10000.00.\n",
      "Damn is the name of car\n"
     ]
    }
   ],
   "source": [
    "# We have a class defined for vehicles. Create two new vehicles called car1 and car2. \n",
    "# Set car1 to be a red convertible worth $60,000.00 with a name of Fer, and car2 to be a blue van named Jump worth $10,000.00.\n",
    "# define the Vehicle class\n",
    "\n",
    "class Vehicle:\n",
    "    name = \"\"\n",
    "    kind = \"car\"\n",
    "    color = \"\"\n",
    "    value = 100.00\n",
    "    def description(self):\n",
    "        desc_str = \"%s is a %s %s worth $%.2f.\" % (self.name, self.color, self.kind, self.value)\n",
    "        return desc_str\n",
    "    def nameFinder(self, name):\n",
    "        return \"%s is the name of %s\" % (name, self.kind)\n",
    "        \n",
    "# your code goes here\n",
    "car1 = Vehicle()\n",
    "car1.name = \"Fer\"\n",
    "car1.color = \"red\"\n",
    "car1.kind = \"convertible\"\n",
    "car1.value = 60000\n",
    "car2 = Vehicle()\n",
    "car2.name = \"Jump\"\n",
    "car2.color = \"blue\"\n",
    "car2.kind = \"van\"\n",
    "car2.value = 10000\n",
    "car3 = Vehicle()\n",
    "# test code\n",
    "print(car1.description())\n",
    "print(car2.description())\n",
    "print(car3.nameFinder(\"Damn\"))"
   ]
  },
  {
   "cell_type": "code",
   "execution_count": 9,
   "id": "5e9a12c1-b313-49a3-a911-59000b986527",
   "metadata": {
    "editable": true,
    "slideshow": {
     "slide_type": ""
    },
    "tags": []
   },
   "outputs": [
    {
     "name": "stdout",
     "output_type": "stream",
     "text": [
      "Jake is listed in the phonebook.\n",
      "Jill is not listed in the phonebook.\n"
     ]
    }
   ],
   "source": [
    "#Add \"Jake\" to the phonebook with the phone number 938273443, and remove Jill from the phonebook.\n",
    "\n",
    "phonebook = {  \n",
    "    \"John\" : 938477566,\n",
    "    \"Jack\" : 938377264,\n",
    "    \"Jill\" : 947662781\n",
    "}  \n",
    "# your code goes here\n",
    "\n",
    "del phonebook['Jill']  \n",
    "\n",
    "# phonebook.pop(\"Jill\", \" Jill is Not found in the phonebook\") - Second Param is optional\n",
    "#del vs pop() = Does a similar job but pop returns the value of the deleted key, while del only deletes the entry completely.\n",
    "\n",
    "phonebook['Jake'] = 938273443\n",
    "\n",
    "# testing code\n",
    "if \"Jake\" in phonebook:  \n",
    "    print(\"Jake is listed in the phonebook.\")\n",
    "    \n",
    "if \"Jill\" not in phonebook:      \n",
    "    print(\"Jill is not listed in the phonebook.\")"
   ]
  },
  {
   "cell_type": "code",
   "execution_count": 13,
   "id": "5934bf76-6d50-4227-b268-60ccea34381a",
   "metadata": {},
   "outputs": [
    {
     "data": {
      "text/plain": [
       "['__builtins__',\n",
       " '__cached__',\n",
       " '__doc__',\n",
       " '__file__',\n",
       " '__loader__',\n",
       " '__name__',\n",
       " '__package__',\n",
       " '__path__',\n",
       " '__spec__',\n",
       " 'error',\n",
       " 'parse',\n",
       " 'request',\n",
       " 'response']"
      ]
     },
     "execution_count": 13,
     "metadata": {},
     "output_type": "execute_result"
    }
   ],
   "source": [
    "import urllib\n",
    "dir(urllib)"
   ]
  },
  {
   "cell_type": "code",
   "execution_count": 14,
   "id": "0aed7083-6e32-4972-8653-39c6f89e64bd",
   "metadata": {},
   "outputs": [
    {
     "name": "stdout",
     "output_type": "stream",
     "text": [
      "Help on package urllib:\n",
      "\n",
      "NAME\n",
      "    urllib\n",
      "\n",
      "MODULE REFERENCE\n",
      "    https://docs.python.org/3.13/library/urllib.html\n",
      "\n",
      "    The following documentation is automatically generated from the Python\n",
      "    source files.  It may be incomplete, incorrect or include features that\n",
      "    are considered implementation detail and may vary between Python\n",
      "    implementations.  When in doubt, consult the module reference at the\n",
      "    location listed above.\n",
      "\n",
      "PACKAGE CONTENTS\n",
      "    error\n",
      "    parse\n",
      "    request\n",
      "    response\n",
      "    robotparser\n",
      "\n",
      "FILE\n",
      "    /opt/anaconda3/lib/python3.13/urllib/__init__.py\n",
      "\n",
      "\n"
     ]
    }
   ],
   "source": [
    "help(urllib)"
   ]
  },
  {
   "cell_type": "code",
   "execution_count": null,
   "id": "d165746c-98f2-4c0e-9f26-990eec438cbb",
   "metadata": {},
   "outputs": [],
   "source": []
  }
 ],
 "metadata": {
  "kernelspec": {
   "display_name": "Python 3 (ipykernel)",
   "language": "python",
   "name": "python3"
  },
  "language_info": {
   "codemirror_mode": {
    "name": "ipython",
    "version": 3
   },
   "file_extension": ".py",
   "mimetype": "text/x-python",
   "name": "python",
   "nbconvert_exporter": "python",
   "pygments_lexer": "ipython3",
   "version": "3.13.5"
  }
 },
 "nbformat": 4,
 "nbformat_minor": 5
}
